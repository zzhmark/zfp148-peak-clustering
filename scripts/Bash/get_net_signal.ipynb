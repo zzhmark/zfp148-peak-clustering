{
 "cells": [
  {
   "cell_type": "code",
   "execution_count": null,
   "metadata": {},
   "outputs": [],
   "source": [
    "PREFIX=../..\n",
    "NAME=kmeans4\n",
    "INPUT=$PREFIX/data/heatmap_data/matrix/$NAME.gz\n",
    "OUTPUT=$PREFIX/results/heatmap/$NAME.png\n",
    "\n",
    "plotHeatmap --matrixFile $INPUT \\\n",
    "            --outFileName $OUTPUT \\\n",
    "            --colorList 'white, blue' \\\n",
    "            --missingDataColor 1 \\"
   ]
  },
  {
   "cell_type": "code",
   "execution_count": null,
   "metadata": {},
   "outputs": [],
   "source": []
  }
 ],
 "metadata": {
  "kernelspec": {
   "display_name": "Bash",
   "language": "bash",
   "name": "bash"
  },
  "language_info": {
   "codemirror_mode": "shell",
   "file_extension": ".sh",
   "mimetype": "text/x-sh",
   "name": "bash"
  }
 },
 "nbformat": 4,
 "nbformat_minor": 4
}
