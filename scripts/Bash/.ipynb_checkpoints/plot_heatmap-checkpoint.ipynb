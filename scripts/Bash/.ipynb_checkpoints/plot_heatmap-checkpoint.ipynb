{
 "cells": [
  {
   "cell_type": "markdown",
   "metadata": {},
   "source": [
    "# hmm"
   ]
  },
  {
   "cell_type": "code",
   "execution_count": 2,
   "metadata": {},
   "outputs": [
    {
     "name": "stdout",
     "output_type": "stream",
     "text": [
      "/mnt/f/MyData/zfp/zfp148-peak-clustering/scripts/Bash\n"
     ]
    }
   ],
   "source": [
    "FEATURES=\"H3K27ac H3K27me3 H3K4me1 H3K4me3 Pol_II p300 H3K9me3 H3K36me3\"\n",
    "PREFIX=../..\n",
    "INPUT_DIR=$PREFIX/data/bigwig\n",
    "CHROM_SIZES=$PREFIX/data/other/mm9.chrom.sizes\n",
    "OUTPUT_DIR=$PREFIX/data/net_signal\n",
    "\n",
    "for i in $FEATURES;\n",
    "do\n",
    "    bw_treat=$INPUT_DIR/signal/$i.bw\n",
    "    bw_control=$INPUT_DIR/background/$i.bw\n",
    "    bigwigCompare \\\n",
    "        --bigwig1 $bw_treat \\\n",
    "        --bigwig2 $bw_control \\\n",
    "        --operation subtract \\\n",
    "        --numberOfProcessors max \\\n",
    "        --outFileName $OUTPUT_DIR/$i.bdg \\\n",
    "        --outFileFormat bedgraph &\n",
    "done\n",
    "\n",
    "for i in $FEATURES;\n",
    "do\n",
    "    bedGraphToBigWig $OUTPUT_DIR/$i.bdg $CHROM_SIZES $INPUT_DIR/net/$i.bw &\n",
    "done"
   ]
  },
  {
   "cell_type": "code",
   "execution_count": null,
   "metadata": {},
   "outputs": [],
   "source": [
    "PREFIX=../..\n",
    "NAME=hmm15\n",
    "REGIONS=$(ls $PREFIX/results/clusters/$NAME/*)\n",
    "SCORES=$(ls $PREFIX/data/bigwig/net/*)\n",
    "MATRIX=$PREFIX/data/heatmap_data/matrix/$NAME\n",
    "SORTEDREGIONS=$PREFIX/data/heatmap_data/sorted_regions/$NAME\n",
    "OUTPUT_DIR=$PREFIX/results/heatmaps/$NAME\n",
    "\n",
    "for i in $REGIONS;\n",
    "do\n",
    "    computeMatrix reference-point \\\n",
    "        --referencePoint center \\\n",
    "        --regionsFileName $i \\\n",
    "        --scoreFileName $SCORES \\\n",
    "        --upstream 5000 \\\n",
    "        --downstream 5000 \\\n",
    "        --smartLabels \\\n",
    "        --outFileName $MATRIX/$(basename $i .bed).gz \\\n",
    "        --outFileSortedRegions $SORTEDREGIONS/$(basename $i) \\\n",
    "        --numberOfProcessors max\n",
    "done"
   ]
  },
  {
   "cell_type": "code",
   "execution_count": 12,
   "metadata": {},
   "outputs": [],
   "source": []
  },
  {
   "cell_type": "markdown",
   "metadata": {},
   "source": []
  },
  {
   "cell_type": "code",
   "execution_count": 13,
   "metadata": {},
   "outputs": [
    {
     "name": "stdout",
     "output_type": "stream",
     "text": [
      "\n",
      "The following chromosome names did not match between the bigwig files\n",
      "chromosome\tlength\n",
      "   chr16_random\t      3994\n",
      "           chrM\t     16299\n",
      "   chr17_random\t    628739\n",
      "    chr8_random\t    849593\n",
      "    chr9_random\t    449403\n",
      "   chrUn_random\t   5900358\n",
      "    chr5_random\t    357350\n",
      "    chrY_random\t  58682461\n",
      "    chr7_random\t    362490\n",
      "    chr1_random\t   1231697\n",
      "    chr3_random\t     41899\n",
      "    chrX_random\t   1785075\n",
      "    chr4_random\t    160594\n",
      "   chr13_random\t    400311\n",
      "One of the groups defined in the bed file is too small.\n",
      "Groups that are too small can't be plotted. \n"
     ]
    }
   ],
   "source": [
    "PREFIX=../..\n",
    "REGIONS=$(ls $PREFIX/results/clusters/hmm15/*)\n",
    "SCORES=$(ls $PREFIX/data/bigwig/net/*)\n",
    "MATRIX=$PREFIX/data/heatmap_data/matrix\n",
    "SORTEDREGIONS=$PREFIX/data/heatmap_data/sorted_regions\n",
    "NAME=hmm15\n",
    "\n",
    "computeMatrix reference-point \\\n",
    "    --referencePoint center \\\n",
    "    --regionsFileName $REGIONS \\\n",
    "    --scoreFileName $SCORES \\\n",
    "    --upstream 5000 \\\n",
    "    --downstream 5000 \\\n",
    "    --smartLabels \\\n",
    "    --outFileName $MATRIX/$NAME.gz \\\n",
    "    --outFileSortedRegions $SORTEDREGIONS/$NAME.bed \\\n",
    "    --numberOfProcessors max"
   ]
  },
  {
   "cell_type": "code",
   "execution_count": null,
   "metadata": {},
   "outputs": [],
   "source": []
  },
  {
   "cell_type": "code",
   "execution_count": 14,
   "metadata": {},
   "outputs": [
    {
     "name": "stdout",
     "output_type": "stream",
     "text": [
      "WARNING: Group 'E11.bed' is too small for plotting, you might want to remove it. There will likely be an error message from matplotlib regarding this below.\n"
     ]
    }
   ],
   "source": [
    "PREFIX=../..\n",
    "NAME=hmm15\n",
    "INPUT=$PREFIX/data/heatmap_data/matrix/$NAME.gz\n",
    "OUTPUT=$PREFIX/results/heatmap/$NAME.png\n",
    "\n",
    "plotHeatmap --matrixFile $INPUT \\\n",
    "            --outFileName $OUTPUT \\\n",
    "            --colorList 'white, purple' \\\n",
    "            --missingDataColor 1 \\\n",
    "            --heatmapHeight 100"
   ]
  },
  {
   "cell_type": "code",
   "execution_count": 16,
   "metadata": {},
   "outputs": [],
   "source": [
    "PREFIX=../..\n",
    "NAME=hmm15\n",
    "OUTPUT_DIR=$PREFIX/results/heatmap/$NAME\n",
    "INPUT=$(ls $PREFIX/data/heatmap_data/matrix/$NAME/*)\n",
    "\n",
    "for i in $INPUT;\n",
    "do\n",
    "    plotHeatmap --matrixFile $i \\\n",
    "                --outFileName $OUTPUT_DIR/$(basename $i .gz).png \\\n",
    "                --colorList 'white, purple' \\\n",
    "                --missingDataColor 1 \\\n",
    "                --heatmapHeight 20\n",
    "done"
   ]
  },
  {
   "cell_type": "markdown",
   "metadata": {},
   "source": [
    "# kmeans"
   ]
  },
  {
   "cell_type": "markdown",
   "metadata": {},
   "source": [
    "## 4"
   ]
  },
  {
   "cell_type": "code",
   "execution_count": 20,
   "metadata": {},
   "outputs": [
    {
     "name": "stdout",
     "output_type": "stream",
     "text": [
      "\n",
      "The following chromosome names did not match between the bigwig files\n",
      "chromosome\tlength\n",
      "    chr5_random\t    357350\n",
      "   chrUn_random\t   5900358\n",
      "    chrY_random\t  58682461\n",
      "    chr3_random\t     41899\n",
      "           chrM\t     16299\n",
      "    chr4_random\t    160594\n",
      "    chr1_random\t   1231697\n",
      "   chr16_random\t      3994\n",
      "   chr13_random\t    400311\n",
      "    chr9_random\t    449403\n",
      "    chr7_random\t    362490\n",
      "    chrX_random\t   1785075\n",
      "    chr8_random\t    849593\n",
      "   chr17_random\t    628739\n"
     ]
    }
   ],
   "source": [
    "PREFIX=../..\n",
    "REGIONS=$(ls $PREFIX/results/clusters/kmeans4/*)\n",
    "SCORES=$(ls $PREFIX/data/bigwig/net/*)\n",
    "MATRIX=$PREFIX/data/heatmap_data/matrix\n",
    "SORTEDREGIONS=$PREFIX/data/heatmap_data/sorted_regions\n",
    "NAME=kmeans4\n",
    "\n",
    "computeMatrix reference-point \\\n",
    "    --referencePoint center \\\n",
    "    --regionsFileName $REGIONS \\\n",
    "    --scoreFileName $SCORES \\\n",
    "    --upstream 5000 \\\n",
    "    --downstream 5000 \\\n",
    "    --smartLabels \\\n",
    "    --outFileName $MATRIX/$NAME.gz \\\n",
    "    --outFileSortedRegions $SORTEDREGIONS/$NAME.bed \\\n",
    "    --numberOfProcessors max"
   ]
  },
  {
   "cell_type": "code",
   "execution_count": 21,
   "metadata": {},
   "outputs": [
    {
     "name": "stdout",
     "output_type": "stream",
     "text": [
      "\n",
      "The following chromosome names did not match between the bigwig files\n",
      "chromosome\tlength\n",
      "   chr13_random\t    400311\n",
      "    chr3_random\t     41899\n",
      "    chr1_random\t   1231697\n",
      "    chrX_random\t   1785075\n",
      "    chr5_random\t    357350\n",
      "    chr7_random\t    362490\n",
      "           chrM\t     16299\n",
      "    chr4_random\t    160594\n",
      "   chr17_random\t    628739\n",
      "   chrUn_random\t   5900358\n",
      "   chr16_random\t      3994\n",
      "    chr8_random\t    849593\n",
      "    chr9_random\t    449403\n",
      "    chrY_random\t  58682461\n"
     ]
    }
   ],
   "source": [
    "PREFIX=../..\n",
    "REGIONS=$(ls $PREFIX/results/clusters/kmeans5/*)\n",
    "SCORES=$(ls $PREFIX/data/bigwig/net/*)\n",
    "MATRIX=$PREFIX/data/heatmap_data/matrix\n",
    "SORTEDREGIONS=$PREFIX/data/heatmap_data/sorted_regions\n",
    "NAME=kmeans5\n",
    "\n",
    "computeMatrix reference-point \\\n",
    "    --referencePoint center \\\n",
    "    --regionsFileName $REGIONS \\\n",
    "    --scoreFileName $SCORES \\\n",
    "    --upstream 5000 \\\n",
    "    --downstream 5000 \\\n",
    "    --smartLabels \\\n",
    "    --outFileName $MATRIX/$NAME.gz \\\n",
    "    --outFileSortedRegions $SORTEDREGIONS/$NAME.bed \\\n",
    "    --numberOfProcessors max"
   ]
  },
  {
   "cell_type": "code",
   "execution_count": 22,
   "metadata": {},
   "outputs": [
    {
     "name": "stdout",
     "output_type": "stream",
     "text": [
      "\n",
      "The following chromosome names did not match between the bigwig files\n",
      "chromosome\tlength\n",
      "    chr9_random\t    449403\n",
      "    chr4_random\t    160594\n",
      "    chr7_random\t    362490\n",
      "   chr17_random\t    628739\n",
      "    chrX_random\t   1785075\n",
      "   chr16_random\t      3994\n",
      "   chr13_random\t    400311\n",
      "   chrUn_random\t   5900358\n",
      "    chr8_random\t    849593\n",
      "    chrY_random\t  58682461\n",
      "    chr1_random\t   1231697\n",
      "    chr3_random\t     41899\n",
      "    chr5_random\t    357350\n",
      "           chrM\t     16299\n"
     ]
    }
   ],
   "source": [
    "PREFIX=../..\n",
    "REGIONS=$(ls $PREFIX/results/clusters/kmeans6/*)\n",
    "SCORES=$(ls $PREFIX/data/bigwig/net/*)\n",
    "MATRIX=$PREFIX/data/heatmap_data/matrix\n",
    "SORTEDREGIONS=$PREFIX/data/heatmap_data/sorted_regions\n",
    "NAME=kmeans6\n",
    "\n",
    "computeMatrix reference-point \\\n",
    "    --referencePoint center \\\n",
    "    --regionsFileName $REGIONS \\\n",
    "    --scoreFileName $SCORES \\\n",
    "    --upstream 5000 \\\n",
    "    --downstream 5000 \\\n",
    "    --smartLabels \\\n",
    "    --outFileName $MATRIX/$NAME.gz \\\n",
    "    --outFileSortedRegions $SORTEDREGIONS/$NAME.bed \\\n",
    "    --numberOfProcessors max"
   ]
  },
  {
   "cell_type": "code",
   "execution_count": 1,
   "metadata": {},
   "outputs": [
    {
     "name": "stdout",
     "output_type": "stream",
     "text": [
      "a\n"
     ]
    }
   ],
   "source": []
  },
  {
   "cell_type": "code",
   "execution_count": null,
   "metadata": {},
   "outputs": [],
   "source": [
    "PREFIX=../..\n",
    "NAME=kmeans4\n",
    "INPUT=$PREFIX/data/heatmap_data/matrix/$NAME.gz\n",
    "OUTPUT=$PREFIX/results/heatmap/$NAME.png\n",
    "\n",
    "plotHeatmap --matrixFile $INPUT \\\n",
    "            --outFileName $OUTPUT \\\n",
    "            --colorList 'white, blue' \\\n",
    "            --missingDataColor 1 \\"
   ]
  },
  {
   "cell_type": "code",
   "execution_count": null,
   "metadata": {},
   "outputs": [],
   "source": [
    "PREFIX=../..\n",
    "NAME=kmeans5\n",
    "INPUT=$PREFIX/data/heatmap_data/matrix/$NAME.gz\n",
    "OUTPUT=$PREFIX/results/heatmap/$NAME.png\n",
    "\n",
    "plotHeatmap --matrixFile $INPUT \\\n",
    "            --outFileName $OUTPUT \\\n",
    "            --colorList 'white, blue' \\\n",
    "            --missingDataColor 1 \\"
   ]
  },
  {
   "cell_type": "code",
   "execution_count": null,
   "metadata": {},
   "outputs": [],
   "source": [
    "PREFIX=../..\n",
    "NAME=kmeans6\n",
    "INPUT=$PREFIX/data/heatmap_data/matrix/$NAME.gz\n",
    "OUTPUT=$PREFIX/results/heatmap/$NAME.png\n",
    "\n",
    "plotHeatmap --matrixFile $INPUT \\\n",
    "            --outFileName $OUTPUT \\\n",
    "            --colorList 'white, blue' \\\n",
    "            --missingDataColor 1 \\"
   ]
  }
 ],
 "metadata": {
  "kernelspec": {
   "display_name": "Bash",
   "language": "bash",
   "name": "bash"
  },
  "language_info": {
   "codemirror_mode": "shell",
   "file_extension": ".sh",
   "mimetype": "text/x-sh",
   "name": "bash"
  }
 },
 "nbformat": 4,
 "nbformat_minor": 4
}
