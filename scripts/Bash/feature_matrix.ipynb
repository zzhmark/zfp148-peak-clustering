{
 "cells": [
  {
   "cell_type": "markdown",
   "metadata": {},
   "source": [
    "# 直接法\n",
    "---\n",
    "使用zfp148的peak作为region直接截取ChiP实验对应位置的平均信号，信号已经减去背景值"
   ]
  },
  {
   "cell_type": "code",
   "execution_count": 9,
   "metadata": {},
   "outputs": [],
   "source": [
    "FEATURES=\"H3K27ac H3K27me3 H3K4me1 H3K4me3 H3K36me3 H3K9me3 p300 Pol_II\"\n",
    "PREFIX=../../data\n",
    "REGION=$PREFIX/other/zfp148_peaks.merged.filter.remove_6_8.confirmed_nuclear.bed\n",
    "TEMP=$PREFIX/temp\n",
    "\n",
    "for i in $FEATURES;\n",
    "do\n",
    "    NET=../../data/bedgraph/net/$i.bdg\n",
    "    OUT=$TEMP/$i\n",
    "    bedtools map -a $REGION -b $NET -c 4 -o mean > $OUT\n",
    "    REGION=$OUT\n",
    "done\n",
    "\n",
    "cp $OUT $PREFIX/feature_matrix/simple_net.bed"
   ]
  },
  {
   "cell_type": "markdown",
   "metadata": {},
   "source": [
    "# 扩展法\n",
    "---\n",
    "对zfp148的peak区域向上下游各扩展500bp，提升对broadpeak的特征识别能力"
   ]
  },
  {
   "cell_type": "code",
   "execution_count": 10,
   "metadata": {},
   "outputs": [],
   "source": [
    "FEATURES=\"H3K27ac H3K27me3 H3K4me1 H3K4me3 H3K36me3 H3K9me3 p300 Pol_II\"\n",
    "PREFIX=../../data\n",
    "REGION=$PREFIX/other/zfp148_peaks.merged.filter.remove_6_8.confirmed_nuclear.bed\n",
    "CHROM_SIZES=$PREFIX/other/mm9.chrom.sizes\n",
    "TEMP=$PREFIX/temp\n",
    "OUT=$TEMP/slopped\n",
    "\n",
    "bedtools slop -i $REGION -g $CHROM_SIZES -b 500 > $OUT\n",
    "REGION=$OUT\n",
    "\n",
    "for i in $FEATURES;\n",
    "do\n",
    "    NET=../../data/bedgraph/net/$i.bdg\n",
    "    OUT=$TEMP/$i\n",
    "    bedtools map -a $REGION -b $NET -c 4 -o mean > $OUT\n",
    "    REGION=$OUT\n",
    "done\n",
    "\n",
    "cp $OUT $PREFIX/feature_matrix/slop_b500_net.bed"
   ]
  }
 ],
 "metadata": {
  "kernelspec": {
   "display_name": "Bash",
   "language": "bash",
   "name": "bash"
  },
  "language_info": {
   "codemirror_mode": "shell",
   "file_extension": ".sh",
   "mimetype": "text/x-sh",
   "name": "bash"
  },
  "toc-autonumbering": true,
  "toc-showcode": false
 },
 "nbformat": 4,
 "nbformat_minor": 4
}
